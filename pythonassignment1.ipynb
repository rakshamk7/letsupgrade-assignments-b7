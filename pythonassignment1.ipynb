{
  "nbformat": 4,
  "nbformat_minor": 0,
  "metadata": {
    "colab": {
      "name": "pythonassignment1.ipynb",
      "provenance": []
    },
    "kernelspec": {
      "name": "python3",
      "display_name": "Python 3"
    }
  },
  "cells": [
    {
      "cell_type": "code",
      "metadata": {
        "id": "4KzQNOUu1k5W",
        "colab_type": "code",
        "colab": {
          "base_uri": "https://localhost:8080/",
          "height": 34
        },
        "outputId": "f6388ca5-e902-4b58-b96e-be3378d931df"
      },
      "source": [
        "# Adds List Element as value of List. \n",
        "List = ['Mathematics', 'chemistry', 1997, 2000] \n",
        "List.append(20544) \n",
        "print(List) "
      ],
      "execution_count": 1,
      "outputs": [
        {
          "output_type": "stream",
          "text": [
            "['Mathematics', 'chemistry', 1997, 2000, 20544]\n"
          ],
          "name": "stdout"
        }
      ]
    },
    {
      "cell_type": "code",
      "metadata": {
        "id": "mHcJhQXa248F",
        "colab_type": "code",
        "colab": {
          "base_uri": "https://localhost:8080/",
          "height": 34
        },
        "outputId": "d158921f-f9bd-48b4-d73c-a1ee8bc181ad"
      },
      "source": [
        "List = ['Mathematics', 'chemistry', 1997, 2000] \n",
        "# Insert at index 2 value 10087 \n",
        "List.insert(2,10087)      \n",
        "print(List)       "
      ],
      "execution_count": 2,
      "outputs": [
        {
          "output_type": "stream",
          "text": [
            "['Mathematics', 'chemistry', 10087, 1997, 2000]\n"
          ],
          "name": "stdout"
        }
      ]
    },
    {
      "cell_type": "code",
      "metadata": {
        "id": "YUhRvnSK3QwO",
        "colab_type": "code",
        "colab": {
          "base_uri": "https://localhost:8080/",
          "height": 51
        },
        "outputId": "d698b611-25a7-4f2d-bda6-a435f12c762f"
      },
      "source": [
        "List1 = [1, 2, 3] \n",
        "List2 = [2, 3, 4, 5] \n",
        "  \n",
        "# Add List2 to List1 \n",
        "List1.extend(List2)         \n",
        "print(List1) \n",
        "  \n",
        "# Add List1 to List2 now \n",
        "List2.extend(List1)  \n",
        "print(List2) "
      ],
      "execution_count": 3,
      "outputs": [
        {
          "output_type": "stream",
          "text": [
            "[1, 2, 3, 2, 3, 4, 5]\n",
            "[2, 3, 4, 5, 1, 2, 3, 2, 3, 4, 5]\n"
          ],
          "name": "stdout"
        }
      ]
    },
    {
      "cell_type": "code",
      "metadata": {
        "id": "nxPOZYmx3tD1",
        "colab_type": "code",
        "colab": {
          "base_uri": "https://localhost:8080/",
          "height": 34
        },
        "outputId": "2d43b9c8-a037-447b-d7e1-78fb14f08436"
      },
      "source": [
        "# to find the sum of  the elements in list\n",
        "list=[1,3,5,7,9]\n",
        "print (sum(list))\n"
      ],
      "execution_count": 4,
      "outputs": [
        {
          "output_type": "stream",
          "text": [
            "25\n"
          ],
          "name": "stdout"
        }
      ]
    },
    {
      "cell_type": "code",
      "metadata": {
        "id": "-iIbj9Ft4Uf2",
        "colab_type": "code",
        "colab": {
          "base_uri": "https://localhost:8080/",
          "height": 119
        },
        "outputId": "05d92da9-4eda-4c88-e4b9-9c651ade4bc2"
      },
      "source": [
        "# Creating a Dictionary  \n",
        "# with Integer Keys \n",
        "Dict = {1: 'akshath', 2: 'athira', 3: 'bhuvi'} \n",
        "print(\"\\nDictionary with the use of Integer Keys: \") \n",
        "print(Dict) \n",
        "  \n",
        "# Creating a Dictionary  \n",
        "# with Mixed keys \n",
        "Dict = {'Name': 'akshath','marks': [96,95,92]} \n",
        "print(\"\\nDictionary with the use of Mixed Keys: \") \n",
        "print(Dict) \n"
      ],
      "execution_count": 11,
      "outputs": [
        {
          "output_type": "stream",
          "text": [
            "\n",
            "Dictionary with the use of Integer Keys: \n",
            "{1: 'akshath', 2: 'athira', 3: 'bhuvi'}\n",
            "\n",
            "Dictionary with the use of Mixed Keys: \n",
            "{'Name': 'akshath', 'marks': [96, 95, 92]}\n"
          ],
          "name": "stdout"
        }
      ]
    },
    {
      "cell_type": "code",
      "metadata": {
        "id": "Rsy4qXhu5FJv",
        "colab_type": "code",
        "colab": {
          "base_uri": "https://localhost:8080/",
          "height": 51
        },
        "outputId": "464f7408-0292-4d6c-c195-17a95fd0d833"
      },
      "source": [
        "normal_set = set([\"a\", \"b\",\"c\"]) \n",
        "  \n",
        "print(\"Normal Set\") \n",
        "print(normal_set) "
      ],
      "execution_count": 12,
      "outputs": [
        {
          "output_type": "stream",
          "text": [
            "Normal Set\n",
            "{'b', 'c', 'a'}\n"
          ],
          "name": "stdout"
        }
      ]
    },
    {
      "cell_type": "code",
      "metadata": {
        "id": "5-DOeSKx7Fpn",
        "colab_type": "code",
        "colab": {
          "base_uri": "https://localhost:8080/",
          "height": 51
        },
        "outputId": "7394d055-1dd4-469c-e85f-e7e85741646c"
      },
      "source": [
        "fruits={\"apple\",\"mango\",\"peach\"}\n",
        "print(fruits,\"seasonal fruits\")\n",
        "fruits.add(\"butterfruit\")\n",
        "print(fruits)"
      ],
      "execution_count": 13,
      "outputs": [
        {
          "output_type": "stream",
          "text": [
            "{'peach', 'apple', 'mango'} seasonal fruits\n",
            "{'peach', 'apple', 'mango', 'butterfruit'}\n"
          ],
          "name": "stdout"
        }
      ]
    },
    {
      "cell_type": "code",
      "metadata": {
        "id": "iYPTyWii8Rxm",
        "colab_type": "code",
        "colab": {
          "base_uri": "https://localhost:8080/",
          "height": 102
        },
        "outputId": "292e985c-fddd-4393-fd57-ff77e317a487"
      },
      "source": [
        "people = {\"Jay\", \"Idrish\", \"Archil\"} \n",
        "vampires = {\"Karan\", \"Arjun\"} \n",
        "dracula = {\"Deepanshu\", \"Raju\"} \n",
        "  \n",
        "# Union using union() \n",
        "# function \n",
        "population = people.union(vampires) \n",
        "  \n",
        "print(\"Union using union() function\") \n",
        "print(population) \n",
        "  \n",
        "# Union using \"|\" \n",
        "# operator \n",
        "population = people|dracula \n",
        "  \n",
        "print(\"\\nUnion using '|' operator\") \n",
        "print(population) "
      ],
      "execution_count": 14,
      "outputs": [
        {
          "output_type": "stream",
          "text": [
            "Union using union() function\n",
            "{'Idrish', 'Archil', 'Karan', 'Jay', 'Arjun'}\n",
            "\n",
            "Union using '|' operator\n",
            "{'Idrish', 'Archil', 'Deepanshu', 'Raju', 'Jay'}\n"
          ],
          "name": "stdout"
        }
      ]
    },
    {
      "cell_type": "code",
      "metadata": {
        "id": "1p7fTYki8jud",
        "colab_type": "code",
        "colab": {
          "base_uri": "https://localhost:8080/",
          "height": 34
        },
        "outputId": "63cc3c66-e928-44e7-d3b7-7e547d5f485c"
      },
      "source": [
        "# An empty tuple \n",
        "empty_tuple = () \n",
        "print (empty_tuple) "
      ],
      "execution_count": 15,
      "outputs": [
        {
          "output_type": "stream",
          "text": [
            "()\n"
          ],
          "name": "stdout"
        }
      ]
    },
    {
      "cell_type": "code",
      "metadata": {
        "id": "ptEy-yHU9Djf",
        "colab_type": "code",
        "colab": {
          "base_uri": "https://localhost:8080/",
          "height": 34
        },
        "outputId": "dba8ba82-8dbd-4f9a-cb78-8136f519b110"
      },
      "source": [
        "# Code for concatenating 2 tuples \n",
        "  \n",
        "tuple1 = (0, 1, 2, 3) \n",
        "tuple2 = ('python', 'geek') \n",
        "  \n",
        "# Concatenating above two \n",
        "print(tuple1 + tuple2) "
      ],
      "execution_count": 16,
      "outputs": [
        {
          "output_type": "stream",
          "text": [
            "(0, 1, 2, 3, 'python', 'geek')\n"
          ],
          "name": "stdout"
        }
      ]
    },
    {
      "cell_type": "code",
      "metadata": {
        "id": "GWdj7R2A9MPf",
        "colab_type": "code",
        "colab": {
          "base_uri": "https://localhost:8080/",
          "height": 68
        },
        "outputId": "2f1d1bdb-6dc4-4724-a763-469c2dcb7807"
      },
      "source": [
        "# code to test slicing \n",
        "  \n",
        "tuple1 = (0 ,1, 2, 3) \n",
        "print(tuple1[1:]) \n",
        "print(tuple1[::-1]) \n",
        "print(tuple1[2:4]) "
      ],
      "execution_count": 17,
      "outputs": [
        {
          "output_type": "stream",
          "text": [
            "(1, 2, 3)\n",
            "(3, 2, 1, 0)\n",
            "(2, 3)\n"
          ],
          "name": "stdout"
        }
      ]
    },
    {
      "cell_type": "code",
      "metadata": {
        "id": "bpA558r59kDU",
        "colab_type": "code",
        "colab": {
          "base_uri": "https://localhost:8080/",
          "height": 153
        },
        "outputId": "abbff283-fc5e-47c3-e470-6f78a0827fc2"
      },
      "source": [
        "String1 = \"grimreaper\"\n",
        "print(\"Initial String: \") \n",
        "print(String1) \n",
        "  \n",
        "# Printing First character \n",
        "print(\"\\nFirst character of String is: \") \n",
        "print(String1[0]) \n",
        "  \n",
        "# Printing Last character \n",
        "print(\"\\nLast character of String is: \") \n",
        "print(String1[-1]) "
      ],
      "execution_count": 19,
      "outputs": [
        {
          "output_type": "stream",
          "text": [
            "Initial String: \n",
            "grimreaper\n",
            "\n",
            "First character of String is: \n",
            "g\n",
            "\n",
            "Last character of String is: \n",
            "r\n"
          ],
          "name": "stdout"
        }
      ]
    },
    {
      "cell_type": "code",
      "metadata": {
        "id": "sCbUEzVx9_5Q",
        "colab_type": "code",
        "colab": {
          "base_uri": "https://localhost:8080/",
          "height": 102
        },
        "outputId": "2dbb2b91-864a-4c2b-faca-a39f67ed561e"
      },
      "source": [
        "# Python Program to Update \n",
        "# entire String \n",
        "  \n",
        "String1 = \"Hello, I'm a Goblin\"\n",
        "print(\"Initial String: \") \n",
        "print(String1) \n",
        "  \n",
        "# Updating a String \n",
        "String1 = \"Welcome to the V World\"\n",
        "print(\"\\nUpdated String: \") \n",
        "print(String1)"
      ],
      "execution_count": 20,
      "outputs": [
        {
          "output_type": "stream",
          "text": [
            "Initial String: \n",
            "Hello, I'm a Goblin\n",
            "\n",
            "Updated String: \n",
            "Welcome to the V World\n"
          ],
          "name": "stdout"
        }
      ]
    },
    {
      "cell_type": "code",
      "metadata": {
        "id": "o6asLfaA-gKS",
        "colab_type": "code",
        "colab": {
          "base_uri": "https://localhost:8080/",
          "height": 51
        },
        "outputId": "61c81dd8-fc2c-4b9f-c695-90466d179c5a"
      },
      "source": [
        "String1 = \"Hello, I'm a Goblin\"\n",
        "print(\"Initial String: \") \n",
        "print(String1) \n",
        "  \n"
      ],
      "execution_count": 22,
      "outputs": [
        {
          "output_type": "stream",
          "text": [
            "Initial String: \n",
            "Hello, I'm a Goblin\n"
          ],
          "name": "stdout"
        }
      ]
    },
    {
      "cell_type": "code",
      "metadata": {
        "id": "1rEywTs2-q1D",
        "colab_type": "code",
        "colab": {}
      },
      "source": [
        ""
      ],
      "execution_count": null,
      "outputs": []
    }
  ]
}